{
 "cells": [
  {
   "cell_type": "code",
   "execution_count": 1,
   "id": "3eca0747",
   "metadata": {},
   "outputs": [],
   "source": [
    "import pandas as pd"
   ]
  },
  {
   "cell_type": "code",
   "execution_count": 2,
   "id": "bc0ea0fc",
   "metadata": {},
   "outputs": [],
   "source": [
    "excel_content = pd.read_excel('CC-3Y-Transactions.xlsx', sheet_name='Credit-Card-Transactions')"
   ]
  },
  {
   "cell_type": "code",
   "execution_count": 3,
   "id": "d3238d9b",
   "metadata": {},
   "outputs": [],
   "source": [
    "excel_content['Year'] = pd.DatetimeIndex(excel_content['Date']).year"
   ]
  },
  {
   "cell_type": "code",
   "execution_count": 4,
   "id": "3d64f6eb",
   "metadata": {},
   "outputs": [],
   "source": [
    "excel_2013 = excel_content[(excel_content['Year'] == 2013)]"
   ]
  },
  {
   "cell_type": "code",
   "execution_count": 5,
   "id": "63f6c708",
   "metadata": {},
   "outputs": [],
   "source": [
    "grp2013 = excel_2013.groupby(['Year','City'],as_index=False)['Amount'].sum()"
   ]
  },
  {
   "cell_type": "code",
   "execution_count": 6,
   "id": "919fe4e1",
   "metadata": {},
   "outputs": [],
   "source": [
    "grp2013sorted = grp2013.sort_values(by='Amount',ascending=False).head(5)"
   ]
  },
  {
   "cell_type": "code",
   "execution_count": 7,
   "id": "3dda0b37",
   "metadata": {},
   "outputs": [],
   "source": [
    "grp2013sorted.set_index('Year', inplace=True)"
   ]
  },
  {
   "cell_type": "code",
   "execution_count": 8,
   "id": "0954df95",
   "metadata": {},
   "outputs": [],
   "source": [
    "excel_2014 = excel_content[(excel_content['Year'] == 2014)]"
   ]
  },
  {
   "cell_type": "code",
   "execution_count": 9,
   "id": "2f7fc2b7",
   "metadata": {},
   "outputs": [],
   "source": [
    "grp2014 = excel_2014.groupby(['Year','City'],as_index=False)['Amount'].sum()"
   ]
  },
  {
   "cell_type": "code",
   "execution_count": 10,
   "id": "4a6abc3c",
   "metadata": {},
   "outputs": [],
   "source": [
    "grp2014sorted = grp2014.sort_values(by='Amount',ascending=False).head(5)"
   ]
  },
  {
   "cell_type": "code",
   "execution_count": 11,
   "id": "46a6f768",
   "metadata": {},
   "outputs": [],
   "source": [
    "grp2014sorted.set_index('Year', inplace=True)"
   ]
  },
  {
   "cell_type": "code",
   "execution_count": 12,
   "id": "835c0ac6",
   "metadata": {},
   "outputs": [],
   "source": [
    "excel_2015 = excel_content[(excel_content['Year'] == 2015)]"
   ]
  },
  {
   "cell_type": "code",
   "execution_count": 13,
   "id": "758ca0c5",
   "metadata": {},
   "outputs": [],
   "source": [
    "grp2015 = excel_2015.groupby(['Year','City'],as_index=False)['Amount'].sum()"
   ]
  },
  {
   "cell_type": "code",
   "execution_count": 14,
   "id": "e57806c0",
   "metadata": {},
   "outputs": [],
   "source": [
    "grp2015sorted = grp2015.sort_values(by='Amount',ascending=False).head(5)"
   ]
  },
  {
   "cell_type": "code",
   "execution_count": 15,
   "id": "4b29b506",
   "metadata": {},
   "outputs": [],
   "source": [
    "grp2015sorted.set_index('Year', inplace=True)"
   ]
  },
  {
   "cell_type": "code",
   "execution_count": 16,
   "id": "1c269f4a",
   "metadata": {},
   "outputs": [
    {
     "data": {
      "text/html": [
       "<div>\n",
       "<style scoped>\n",
       "    .dataframe tbody tr th:only-of-type {\n",
       "        vertical-align: middle;\n",
       "    }\n",
       "\n",
       "    .dataframe tbody tr th {\n",
       "        vertical-align: top;\n",
       "    }\n",
       "\n",
       "    .dataframe thead th {\n",
       "        text-align: right;\n",
       "    }\n",
       "</style>\n",
       "<table border=\"1\" class=\"dataframe\">\n",
       "  <thead>\n",
       "    <tr style=\"text-align: right;\">\n",
       "      <th>Year</th>\n",
       "      <th>2013</th>\n",
       "      <th>2013</th>\n",
       "      <th>2013</th>\n",
       "      <th>2013</th>\n",
       "      <th>2013</th>\n",
       "    </tr>\n",
       "  </thead>\n",
       "  <tbody>\n",
       "    <tr>\n",
       "      <th>City</th>\n",
       "      <td>Bengaluru, India</td>\n",
       "      <td>Greater Mumbai, India</td>\n",
       "      <td>Ahmedabad, India</td>\n",
       "      <td>Delhi, India</td>\n",
       "      <td>Kanpur, India</td>\n",
       "    </tr>\n",
       "    <tr>\n",
       "      <th>Amount</th>\n",
       "      <td>84999287</td>\n",
       "      <td>84735652</td>\n",
       "      <td>83291837</td>\n",
       "      <td>82126961</td>\n",
       "      <td>19640338</td>\n",
       "    </tr>\n",
       "  </tbody>\n",
       "</table>\n",
       "</div>"
      ],
      "text/plain": [
       "Year                2013                   2013              2013  \\\n",
       "City    Bengaluru, India  Greater Mumbai, India  Ahmedabad, India   \n",
       "Amount          84999287               84735652          83291837   \n",
       "\n",
       "Year            2013           2013  \n",
       "City    Delhi, India  Kanpur, India  \n",
       "Amount      82126961       19640338  "
      ]
     },
     "execution_count": 16,
     "metadata": {},
     "output_type": "execute_result"
    }
   ],
   "source": [
    "grp2013sorted.T"
   ]
  },
  {
   "cell_type": "code",
   "execution_count": 17,
   "id": "7c58824f",
   "metadata": {},
   "outputs": [
    {
     "data": {
      "text/html": [
       "<div>\n",
       "<style scoped>\n",
       "    .dataframe tbody tr th:only-of-type {\n",
       "        vertical-align: middle;\n",
       "    }\n",
       "\n",
       "    .dataframe tbody tr th {\n",
       "        vertical-align: top;\n",
       "    }\n",
       "\n",
       "    .dataframe thead th {\n",
       "        text-align: right;\n",
       "    }\n",
       "</style>\n",
       "<table border=\"1\" class=\"dataframe\">\n",
       "  <thead>\n",
       "    <tr style=\"text-align: right;\">\n",
       "      <th>Year</th>\n",
       "      <th>2014</th>\n",
       "      <th>2014</th>\n",
       "      <th>2014</th>\n",
       "      <th>2014</th>\n",
       "      <th>2014</th>\n",
       "    </tr>\n",
       "  </thead>\n",
       "  <tbody>\n",
       "    <tr>\n",
       "      <th>City</th>\n",
       "      <td>Bengaluru, India</td>\n",
       "      <td>Greater Mumbai, India</td>\n",
       "      <td>Ahmedabad, India</td>\n",
       "      <td>Delhi, India</td>\n",
       "      <td>Hyderabad, India</td>\n",
       "    </tr>\n",
       "    <tr>\n",
       "      <th>Amount</th>\n",
       "      <td>351482095</td>\n",
       "      <td>349709415</td>\n",
       "      <td>348289187</td>\n",
       "      <td>329591186</td>\n",
       "      <td>71066005</td>\n",
       "    </tr>\n",
       "  </tbody>\n",
       "</table>\n",
       "</div>"
      ],
      "text/plain": [
       "Year                2014                   2014              2014  \\\n",
       "City    Bengaluru, India  Greater Mumbai, India  Ahmedabad, India   \n",
       "Amount         351482095              349709415         348289187   \n",
       "\n",
       "Year            2014              2014  \n",
       "City    Delhi, India  Hyderabad, India  \n",
       "Amount     329591186          71066005  "
      ]
     },
     "execution_count": 17,
     "metadata": {},
     "output_type": "execute_result"
    }
   ],
   "source": [
    "grp2014sorted.T"
   ]
  },
  {
   "cell_type": "code",
   "execution_count": 18,
   "id": "1ebdb771",
   "metadata": {},
   "outputs": [
    {
     "data": {
      "text/html": [
       "<div>\n",
       "<style scoped>\n",
       "    .dataframe tbody tr th:only-of-type {\n",
       "        vertical-align: middle;\n",
       "    }\n",
       "\n",
       "    .dataframe tbody tr th {\n",
       "        vertical-align: top;\n",
       "    }\n",
       "\n",
       "    .dataframe thead th {\n",
       "        text-align: right;\n",
       "    }\n",
       "</style>\n",
       "<table border=\"1\" class=\"dataframe\">\n",
       "  <thead>\n",
       "    <tr style=\"text-align: right;\">\n",
       "      <th>Year</th>\n",
       "      <th>2015</th>\n",
       "      <th>2015</th>\n",
       "      <th>2015</th>\n",
       "      <th>2015</th>\n",
       "      <th>2015</th>\n",
       "    </tr>\n",
       "  </thead>\n",
       "  <tbody>\n",
       "    <tr>\n",
       "      <th>City</th>\n",
       "      <td>Delhi, India</td>\n",
       "      <td>Greater Mumbai, India</td>\n",
       "      <td>Ahmedabad, India</td>\n",
       "      <td>Bengaluru, India</td>\n",
       "      <td>Kolkata, India</td>\n",
       "    </tr>\n",
       "    <tr>\n",
       "      <th>Amount</th>\n",
       "      <td>145211065</td>\n",
       "      <td>142306409</td>\n",
       "      <td>136213286</td>\n",
       "      <td>135845357</td>\n",
       "      <td>30918731</td>\n",
       "    </tr>\n",
       "  </tbody>\n",
       "</table>\n",
       "</div>"
      ],
      "text/plain": [
       "Year            2015                   2015              2015  \\\n",
       "City    Delhi, India  Greater Mumbai, India  Ahmedabad, India   \n",
       "Amount     145211065              142306409         136213286   \n",
       "\n",
       "Year                2015            2015  \n",
       "City    Bengaluru, India  Kolkata, India  \n",
       "Amount         135845357        30918731  "
      ]
     },
     "execution_count": 18,
     "metadata": {},
     "output_type": "execute_result"
    }
   ],
   "source": [
    "grp2015sorted.T"
   ]
  },
  {
   "cell_type": "code",
   "execution_count": 19,
   "id": "3fe2884c",
   "metadata": {},
   "outputs": [],
   "source": [
    "excel_content['quarters'] = excel_content.Date.dt.quarter"
   ]
  },
  {
   "cell_type": "code",
   "execution_count": 20,
   "id": "82a1cbec",
   "metadata": {},
   "outputs": [],
   "source": [
    "group = excel_content.groupby(['Year','Gender','quarters'],as_index=False)['Amount'].sum()"
   ]
  },
  {
   "cell_type": "code",
   "execution_count": 21,
   "id": "013ecd3c",
   "metadata": {},
   "outputs": [
    {
     "data": {
      "text/html": [
       "<div>\n",
       "<style scoped>\n",
       "    .dataframe tbody tr th:only-of-type {\n",
       "        vertical-align: middle;\n",
       "    }\n",
       "\n",
       "    .dataframe tbody tr th {\n",
       "        vertical-align: top;\n",
       "    }\n",
       "\n",
       "    .dataframe thead th {\n",
       "        text-align: right;\n",
       "    }\n",
       "</style>\n",
       "<table border=\"1\" class=\"dataframe\">\n",
       "  <thead>\n",
       "    <tr style=\"text-align: right;\">\n",
       "      <th></th>\n",
       "      <th>quarters</th>\n",
       "      <th>1</th>\n",
       "      <th>2</th>\n",
       "      <th>3</th>\n",
       "      <th>4</th>\n",
       "    </tr>\n",
       "    <tr>\n",
       "      <th>Year</th>\n",
       "      <th>Gender</th>\n",
       "      <th></th>\n",
       "      <th></th>\n",
       "      <th></th>\n",
       "      <th></th>\n",
       "    </tr>\n",
       "  </thead>\n",
       "  <tbody>\n",
       "    <tr>\n",
       "      <th rowspan=\"2\" valign=\"top\">2013</th>\n",
       "      <th>F</th>\n",
       "      <td>NaN</td>\n",
       "      <td>NaN</td>\n",
       "      <td>NaN</td>\n",
       "      <td>333421908.0</td>\n",
       "    </tr>\n",
       "    <tr>\n",
       "      <th>M</th>\n",
       "      <td>NaN</td>\n",
       "      <td>NaN</td>\n",
       "      <td>NaN</td>\n",
       "      <td>280221976.0</td>\n",
       "    </tr>\n",
       "    <tr>\n",
       "      <th rowspan=\"2\" valign=\"top\">2014</th>\n",
       "      <th>F</th>\n",
       "      <td>318768288.0</td>\n",
       "      <td>331421060.0</td>\n",
       "      <td>335382914.0</td>\n",
       "      <td>334689993.0</td>\n",
       "    </tr>\n",
       "    <tr>\n",
       "      <th>M</th>\n",
       "      <td>281336181.0</td>\n",
       "      <td>269947023.0</td>\n",
       "      <td>290613061.0</td>\n",
       "      <td>292555513.0</td>\n",
       "    </tr>\n",
       "    <tr>\n",
       "      <th rowspan=\"2\" valign=\"top\">2015</th>\n",
       "      <th>F</th>\n",
       "      <td>344993188.0</td>\n",
       "      <td>206633679.0</td>\n",
       "      <td>NaN</td>\n",
       "      <td>NaN</td>\n",
       "    </tr>\n",
       "    <tr>\n",
       "      <th>M</th>\n",
       "      <td>279678969.0</td>\n",
       "      <td>175169620.0</td>\n",
       "      <td>NaN</td>\n",
       "      <td>NaN</td>\n",
       "    </tr>\n",
       "  </tbody>\n",
       "</table>\n",
       "</div>"
      ],
      "text/plain": [
       "quarters               1            2            3            4\n",
       "Year Gender                                                    \n",
       "2013 F               NaN          NaN          NaN  333421908.0\n",
       "     M               NaN          NaN          NaN  280221976.0\n",
       "2014 F       318768288.0  331421060.0  335382914.0  334689993.0\n",
       "     M       281336181.0  269947023.0  290613061.0  292555513.0\n",
       "2015 F       344993188.0  206633679.0          NaN          NaN\n",
       "     M       279678969.0  175169620.0          NaN          NaN"
      ]
     },
     "execution_count": 21,
     "metadata": {},
     "output_type": "execute_result"
    }
   ],
   "source": [
    "group.pivot(index=['Year','Gender'], columns='quarters', values='Amount')"
   ]
  },
  {
   "cell_type": "code",
   "execution_count": 22,
   "id": "7974dc66",
   "metadata": {},
   "outputs": [],
   "source": [
    "excel_2013smallest = excel_2013.groupby(['Year','Exp Type'],sort = True,as_index=False).sum().nsmallest(3,'Amount')"
   ]
  },
  {
   "cell_type": "code",
   "execution_count": 23,
   "id": "fbf5bdd7",
   "metadata": {},
   "outputs": [],
   "source": [
    "excel_2013smallest.set_index('Year', inplace=True)"
   ]
  },
  {
   "cell_type": "code",
   "execution_count": 24,
   "id": "f18b7e3a",
   "metadata": {},
   "outputs": [],
   "source": [
    "excel_2014smallest = excel_2014.groupby(['Year','Exp Type'],sort = True,as_index=False).sum().nsmallest(3,'Amount')"
   ]
  },
  {
   "cell_type": "code",
   "execution_count": 25,
   "id": "c474bf94",
   "metadata": {},
   "outputs": [],
   "source": [
    "excel_2014smallest.set_index('Year', inplace=True)"
   ]
  },
  {
   "cell_type": "code",
   "execution_count": 26,
   "id": "099931f8",
   "metadata": {},
   "outputs": [],
   "source": [
    "excel_2015smallest = excel_2015.groupby(['Year','Exp Type'],sort = True,as_index=False).sum().nsmallest(3,'Amount')"
   ]
  },
  {
   "cell_type": "code",
   "execution_count": 27,
   "id": "e0f37c17",
   "metadata": {},
   "outputs": [],
   "source": [
    "excel_2015smallest.set_index('Year', inplace=True)"
   ]
  },
  {
   "cell_type": "code",
   "execution_count": 28,
   "id": "c557b4f7",
   "metadata": {},
   "outputs": [
    {
     "data": {
      "text/html": [
       "<div>\n",
       "<style scoped>\n",
       "    .dataframe tbody tr th:only-of-type {\n",
       "        vertical-align: middle;\n",
       "    }\n",
       "\n",
       "    .dataframe tbody tr th {\n",
       "        vertical-align: top;\n",
       "    }\n",
       "\n",
       "    .dataframe thead th {\n",
       "        text-align: right;\n",
       "    }\n",
       "</style>\n",
       "<table border=\"1\" class=\"dataframe\">\n",
       "  <thead>\n",
       "    <tr style=\"text-align: right;\">\n",
       "      <th>Year</th>\n",
       "      <th>2013</th>\n",
       "      <th>2013</th>\n",
       "      <th>2013</th>\n",
       "    </tr>\n",
       "  </thead>\n",
       "  <tbody>\n",
       "    <tr>\n",
       "      <th>Exp Type</th>\n",
       "      <td>Travel</td>\n",
       "      <td>Grocery</td>\n",
       "      <td>Entertainment</td>\n",
       "    </tr>\n",
       "    <tr>\n",
       "      <th>Amount</th>\n",
       "      <td>15353606</td>\n",
       "      <td>111806890</td>\n",
       "      <td>113094669</td>\n",
       "    </tr>\n",
       "  </tbody>\n",
       "</table>\n",
       "</div>"
      ],
      "text/plain": [
       "Year          2013       2013           2013\n",
       "Exp Type    Travel    Grocery  Entertainment\n",
       "Amount    15353606  111806890      113094669"
      ]
     },
     "execution_count": 28,
     "metadata": {},
     "output_type": "execute_result"
    }
   ],
   "source": [
    "excel_2013smallest.T"
   ]
  },
  {
   "cell_type": "code",
   "execution_count": 29,
   "id": "8d08d030",
   "metadata": {},
   "outputs": [
    {
     "data": {
      "text/html": [
       "<div>\n",
       "<style scoped>\n",
       "    .dataframe tbody tr th:only-of-type {\n",
       "        vertical-align: middle;\n",
       "    }\n",
       "\n",
       "    .dataframe tbody tr th {\n",
       "        vertical-align: top;\n",
       "    }\n",
       "\n",
       "    .dataframe thead th {\n",
       "        text-align: right;\n",
       "    }\n",
       "</style>\n",
       "<table border=\"1\" class=\"dataframe\">\n",
       "  <thead>\n",
       "    <tr style=\"text-align: right;\">\n",
       "      <th>Year</th>\n",
       "      <th>2014</th>\n",
       "      <th>2014</th>\n",
       "      <th>2014</th>\n",
       "    </tr>\n",
       "  </thead>\n",
       "  <tbody>\n",
       "    <tr>\n",
       "      <th>Exp Type</th>\n",
       "      <td>Travel</td>\n",
       "      <td>Grocery</td>\n",
       "      <td>Entertainment</td>\n",
       "    </tr>\n",
       "    <tr>\n",
       "      <th>Amount</th>\n",
       "      <td>65532848</td>\n",
       "      <td>428628961</td>\n",
       "      <td>443730570</td>\n",
       "    </tr>\n",
       "  </tbody>\n",
       "</table>\n",
       "</div>"
      ],
      "text/plain": [
       "Year          2014       2014           2014\n",
       "Exp Type    Travel    Grocery  Entertainment\n",
       "Amount    65532848  428628961      443730570"
      ]
     },
     "execution_count": 29,
     "metadata": {},
     "output_type": "execute_result"
    }
   ],
   "source": [
    "excel_2014smallest.T"
   ]
  },
  {
   "cell_type": "code",
   "execution_count": 30,
   "id": "8c506403",
   "metadata": {},
   "outputs": [
    {
     "data": {
      "text/html": [
       "<div>\n",
       "<style scoped>\n",
       "    .dataframe tbody tr th:only-of-type {\n",
       "        vertical-align: middle;\n",
       "    }\n",
       "\n",
       "    .dataframe tbody tr th {\n",
       "        vertical-align: top;\n",
       "    }\n",
       "\n",
       "    .dataframe thead th {\n",
       "        text-align: right;\n",
       "    }\n",
       "</style>\n",
       "<table border=\"1\" class=\"dataframe\">\n",
       "  <thead>\n",
       "    <tr style=\"text-align: right;\">\n",
       "      <th>Year</th>\n",
       "      <th>2015</th>\n",
       "      <th>2015</th>\n",
       "      <th>2015</th>\n",
       "    </tr>\n",
       "  </thead>\n",
       "  <tbody>\n",
       "    <tr>\n",
       "      <th>Exp Type</th>\n",
       "      <td>Travel</td>\n",
       "      <td>Entertainment</td>\n",
       "      <td>Grocery</td>\n",
       "    </tr>\n",
       "    <tr>\n",
       "      <th>Amount</th>\n",
       "      <td>28369157</td>\n",
       "      <td>169612297</td>\n",
       "      <td>177772072</td>\n",
       "    </tr>\n",
       "  </tbody>\n",
       "</table>\n",
       "</div>"
      ],
      "text/plain": [
       "Year          2015           2015       2015\n",
       "Exp Type    Travel  Entertainment    Grocery\n",
       "Amount    28369157      169612297  177772072"
      ]
     },
     "execution_count": 30,
     "metadata": {},
     "output_type": "execute_result"
    }
   ],
   "source": [
    "excel_2015smallest.T"
   ]
  }
 ],
 "metadata": {
  "kernelspec": {
   "display_name": "Python 3",
   "language": "python",
   "name": "python3"
  },
  "language_info": {
   "codemirror_mode": {
    "name": "ipython",
    "version": 3
   },
   "file_extension": ".py",
   "mimetype": "text/x-python",
   "name": "python",
   "nbconvert_exporter": "python",
   "pygments_lexer": "ipython3",
   "version": "3.8.8"
  }
 },
 "nbformat": 4,
 "nbformat_minor": 5
}
