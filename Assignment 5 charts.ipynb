{
 "cells": [
  {
   "cell_type": "code",
   "execution_count": 1,
   "id": "3eca0747",
   "metadata": {},
   "outputs": [],
   "source": [
    "import pandas as pd\n",
    "import matplotlib.pyplot as plt\n",
    "%matplotlib inline\n",
    "import numpy as np"
   ]
  },
  {
   "cell_type": "code",
   "execution_count": 2,
   "id": "bc0ea0fc",
   "metadata": {},
   "outputs": [],
   "source": [
    "excel_content = pd.read_excel('CC-3Y-Transactions.xlsx', sheet_name='Credit-Card-Transactions')"
   ]
  },
  {
   "cell_type": "code",
   "execution_count": 3,
   "id": "d3238d9b",
   "metadata": {},
   "outputs": [],
   "source": [
    "excel_content['Year'] = pd.DatetimeIndex(excel_content['Date']).year"
   ]
  },
  {
   "cell_type": "code",
   "execution_count": 4,
   "id": "3d64f6eb",
   "metadata": {},
   "outputs": [],
   "source": [
    "excel_2013 = excel_content[(excel_content['Year'] == 2013)]"
   ]
  },
  {
   "cell_type": "code",
   "execution_count": 5,
   "id": "63f6c708",
   "metadata": {},
   "outputs": [],
   "source": [
    "grp2013 = excel_2013.groupby(['Year','City'],as_index=False)['Amount'].sum()"
   ]
  },
  {
   "cell_type": "code",
   "execution_count": 6,
   "id": "919fe4e1",
   "metadata": {},
   "outputs": [],
   "source": [
    "grp2013sorted = grp2013.sort_values(by='Amount',ascending=False).head(5)"
   ]
  },
  {
   "cell_type": "code",
   "execution_count": 7,
   "id": "3dda0b37",
   "metadata": {},
   "outputs": [],
   "source": [
    "grp2013sorted.set_index('Year', inplace=True)"
   ]
  },
  {
   "cell_type": "code",
   "execution_count": 8,
   "id": "0954df95",
   "metadata": {},
   "outputs": [],
   "source": [
    "excel_2014 = excel_content[(excel_content['Year'] == 2014)]"
   ]
  },
  {
   "cell_type": "code",
   "execution_count": 9,
   "id": "2f7fc2b7",
   "metadata": {},
   "outputs": [],
   "source": [
    "grp2014 = excel_2014.groupby(['Year','City'],as_index=False)['Amount'].sum()"
   ]
  },
  {
   "cell_type": "code",
   "execution_count": 10,
   "id": "4a6abc3c",
   "metadata": {},
   "outputs": [],
   "source": [
    "grp2014sorted = grp2014.sort_values(by='Amount',ascending=False).head(5)"
   ]
  },
  {
   "cell_type": "code",
   "execution_count": 11,
   "id": "46a6f768",
   "metadata": {},
   "outputs": [],
   "source": [
    "grp2014sorted.set_index('Year', inplace=True)"
   ]
  },
  {
   "cell_type": "code",
   "execution_count": 12,
   "id": "835c0ac6",
   "metadata": {},
   "outputs": [],
   "source": [
    "excel_2015 = excel_content[(excel_content['Year'] == 2015)]"
   ]
  },
  {
   "cell_type": "code",
   "execution_count": 13,
   "id": "758ca0c5",
   "metadata": {},
   "outputs": [],
   "source": [
    "grp2015 = excel_2015.groupby(['Year','City'],as_index=False)['Amount'].sum()"
   ]
  },
  {
   "cell_type": "code",
   "execution_count": 14,
   "id": "e57806c0",
   "metadata": {},
   "outputs": [],
   "source": [
    "grp2015sorted = grp2015.sort_values(by='Amount',ascending=False).head(5)"
   ]
  },
  {
   "cell_type": "code",
   "execution_count": 15,
   "id": "4b29b506",
   "metadata": {},
   "outputs": [],
   "source": [
    "grp2015sorted.set_index('Year', inplace=True)"
   ]
  },
  {
   "cell_type": "code",
   "execution_count": 16,
   "id": "1c269f4a",
   "metadata": {},
   "outputs": [
    {
     "data": {
      "text/html": [
       "<div>\n",
       "<style scoped>\n",
       "    .dataframe tbody tr th:only-of-type {\n",
       "        vertical-align: middle;\n",
       "    }\n",
       "\n",
       "    .dataframe tbody tr th {\n",
       "        vertical-align: top;\n",
       "    }\n",
       "\n",
       "    .dataframe thead th {\n",
       "        text-align: right;\n",
       "    }\n",
       "</style>\n",
       "<table border=\"1\" class=\"dataframe\">\n",
       "  <thead>\n",
       "    <tr style=\"text-align: right;\">\n",
       "      <th>Year</th>\n",
       "      <th>2013</th>\n",
       "      <th>2013</th>\n",
       "      <th>2013</th>\n",
       "      <th>2013</th>\n",
       "      <th>2013</th>\n",
       "    </tr>\n",
       "  </thead>\n",
       "  <tbody>\n",
       "    <tr>\n",
       "      <th>City</th>\n",
       "      <td>Bengaluru, India</td>\n",
       "      <td>Greater Mumbai, India</td>\n",
       "      <td>Ahmedabad, India</td>\n",
       "      <td>Delhi, India</td>\n",
       "      <td>Kanpur, India</td>\n",
       "    </tr>\n",
       "    <tr>\n",
       "      <th>Amount</th>\n",
       "      <td>84999287</td>\n",
       "      <td>84735652</td>\n",
       "      <td>83291837</td>\n",
       "      <td>82126961</td>\n",
       "      <td>19640338</td>\n",
       "    </tr>\n",
       "  </tbody>\n",
       "</table>\n",
       "</div>"
      ],
      "text/plain": [
       "Year                2013                   2013              2013  \\\n",
       "City    Bengaluru, India  Greater Mumbai, India  Ahmedabad, India   \n",
       "Amount          84999287               84735652          83291837   \n",
       "\n",
       "Year            2013           2013  \n",
       "City    Delhi, India  Kanpur, India  \n",
       "Amount      82126961       19640338  "
      ]
     },
     "execution_count": 16,
     "metadata": {},
     "output_type": "execute_result"
    }
   ],
   "source": [
    "grp2013sorted.T"
   ]
  },
  {
   "cell_type": "code",
   "execution_count": 17,
   "id": "7c58824f",
   "metadata": {},
   "outputs": [
    {
     "data": {
      "text/html": [
       "<div>\n",
       "<style scoped>\n",
       "    .dataframe tbody tr th:only-of-type {\n",
       "        vertical-align: middle;\n",
       "    }\n",
       "\n",
       "    .dataframe tbody tr th {\n",
       "        vertical-align: top;\n",
       "    }\n",
       "\n",
       "    .dataframe thead th {\n",
       "        text-align: right;\n",
       "    }\n",
       "</style>\n",
       "<table border=\"1\" class=\"dataframe\">\n",
       "  <thead>\n",
       "    <tr style=\"text-align: right;\">\n",
       "      <th>Year</th>\n",
       "      <th>2014</th>\n",
       "      <th>2014</th>\n",
       "      <th>2014</th>\n",
       "      <th>2014</th>\n",
       "      <th>2014</th>\n",
       "    </tr>\n",
       "  </thead>\n",
       "  <tbody>\n",
       "    <tr>\n",
       "      <th>City</th>\n",
       "      <td>Bengaluru, India</td>\n",
       "      <td>Greater Mumbai, India</td>\n",
       "      <td>Ahmedabad, India</td>\n",
       "      <td>Delhi, India</td>\n",
       "      <td>Hyderabad, India</td>\n",
       "    </tr>\n",
       "    <tr>\n",
       "      <th>Amount</th>\n",
       "      <td>351482095</td>\n",
       "      <td>349709415</td>\n",
       "      <td>348289187</td>\n",
       "      <td>329591186</td>\n",
       "      <td>71066005</td>\n",
       "    </tr>\n",
       "  </tbody>\n",
       "</table>\n",
       "</div>"
      ],
      "text/plain": [
       "Year                2014                   2014              2014  \\\n",
       "City    Bengaluru, India  Greater Mumbai, India  Ahmedabad, India   \n",
       "Amount         351482095              349709415         348289187   \n",
       "\n",
       "Year            2014              2014  \n",
       "City    Delhi, India  Hyderabad, India  \n",
       "Amount     329591186          71066005  "
      ]
     },
     "execution_count": 17,
     "metadata": {},
     "output_type": "execute_result"
    }
   ],
   "source": [
    "grp2014sorted.T"
   ]
  },
  {
   "cell_type": "code",
   "execution_count": 18,
   "id": "1ebdb771",
   "metadata": {},
   "outputs": [
    {
     "data": {
      "text/html": [
       "<div>\n",
       "<style scoped>\n",
       "    .dataframe tbody tr th:only-of-type {\n",
       "        vertical-align: middle;\n",
       "    }\n",
       "\n",
       "    .dataframe tbody tr th {\n",
       "        vertical-align: top;\n",
       "    }\n",
       "\n",
       "    .dataframe thead th {\n",
       "        text-align: right;\n",
       "    }\n",
       "</style>\n",
       "<table border=\"1\" class=\"dataframe\">\n",
       "  <thead>\n",
       "    <tr style=\"text-align: right;\">\n",
       "      <th>Year</th>\n",
       "      <th>2015</th>\n",
       "      <th>2015</th>\n",
       "      <th>2015</th>\n",
       "      <th>2015</th>\n",
       "      <th>2015</th>\n",
       "    </tr>\n",
       "  </thead>\n",
       "  <tbody>\n",
       "    <tr>\n",
       "      <th>City</th>\n",
       "      <td>Delhi, India</td>\n",
       "      <td>Greater Mumbai, India</td>\n",
       "      <td>Ahmedabad, India</td>\n",
       "      <td>Bengaluru, India</td>\n",
       "      <td>Kolkata, India</td>\n",
       "    </tr>\n",
       "    <tr>\n",
       "      <th>Amount</th>\n",
       "      <td>145211065</td>\n",
       "      <td>142306409</td>\n",
       "      <td>136213286</td>\n",
       "      <td>135845357</td>\n",
       "      <td>30918731</td>\n",
       "    </tr>\n",
       "  </tbody>\n",
       "</table>\n",
       "</div>"
      ],
      "text/plain": [
       "Year            2015                   2015              2015  \\\n",
       "City    Delhi, India  Greater Mumbai, India  Ahmedabad, India   \n",
       "Amount     145211065              142306409         136213286   \n",
       "\n",
       "Year                2015            2015  \n",
       "City    Bengaluru, India  Kolkata, India  \n",
       "Amount         135845357        30918731  "
      ]
     },
     "execution_count": 18,
     "metadata": {},
     "output_type": "execute_result"
    }
   ],
   "source": [
    "grp2015sorted.T"
   ]
  },
  {
   "cell_type": "code",
   "execution_count": 19,
   "id": "333ecb53",
   "metadata": {},
   "outputs": [
    {
     "data": {
      "text/plain": [
       "[Text(0, 0, 'Delhi, India'),\n",
       " Text(1, 0, 'Greater Mumbai, India'),\n",
       " Text(2, 0, 'Ahmedabad, India'),\n",
       " Text(3, 0, 'Bengaluru, India'),\n",
       " Text(4, 0, 'Kolkata, India')]"
      ]
     },
     "execution_count": 19,
     "metadata": {},
     "output_type": "execute_result"
    },
    {
     "data": {
      "image/png": "[encoded data removed]",
      "text/plain": [
       "<Figure size 1440x576 with 3 Axes>"
      ]
     },
     "metadata": {
      "needs_background": "light"
     },
     "output_type": "display_data"
    }
   ],
   "source": [
    "City_name2013=list(grp2013sorted['City'].unique())\n",
    "index2013 = range(len(City_name2013))\n",
    "Amount_per_city2013 = grp2013sorted.groupby('City')['Amount'].mean()\n",
    "Amount_per_city2013 = Amount_per_city2013[City_name2013]\n",
    "\n",
    "City_name2014=list(grp2014sorted['City'].unique())\n",
    "index2014 = range(len(City_name2014))\n",
    "Amount_per_city2014 = grp2014sorted.groupby('City')['Amount'].mean()\n",
    "Amount_per_city2014 = Amount_per_city2014[City_name2014]\n",
    "\n",
    "City_name2015=list(grp2015sorted['City'].unique())\n",
    "index2015 = range(len(City_name2015))\n",
    "Amount_per_city2015 = grp2015sorted.groupby('City')['Amount'].mean()\n",
    "Amount_per_city2015 = Amount_per_city2015[City_name2015]\n",
    "\n",
    "fig, axs = plt.subplots(1, 3, figsize=(20, 8), sharey=True)\n",
    "\n",
    "axs[0].bar(index2013, Amount_per_city2013)\n",
    "axs[0].set_title('Top 5 City Expenses for the year 2013', fontsize=15, pad=20)\n",
    "axs[0].set_xlabel('City', fontsize=15)\n",
    "axs[0].set_ylabel('Total Amount', fontsize=15)\n",
    "axs[0].set_xticks(index2013)\n",
    "axs[0].set_xticklabels(City_name2013,rotation = 45)\n",
    "\n",
    "axs[1].bar(index2014, Amount_per_city2014)\n",
    "axs[1].set_title('Top 5 City Expenses for the year 2014', fontsize=15, pad=20)\n",
    "axs[1].set_xlabel('City', fontsize=15)\n",
    "axs[1].set_ylabel('Total Amount', fontsize=15)\n",
    "axs[1].set_xticks(index2014)\n",
    "axs[1].set_xticklabels(City_name2014,rotation = 45)\n",
    "\n",
    "axs[2].bar(index2015, Amount_per_city2015)\n",
    "axs[2].set_title('Top 5 City Expenses for the year 2015', fontsize=15, pad=20)\n",
    "axs[2].set_xlabel('City', fontsize=15)\n",
    "axs[2].set_ylabel('Total Amount', fontsize=15)\n",
    "axs[2].set_xticks(index2015)\n",
    "axs[2].set_xticklabels(City_name2015,rotation = 45)"
   ]
  },
  {
   "cell_type": "code",
   "execution_count": 20,
   "id": "3fe2884c",
   "metadata": {},
   "outputs": [],
   "source": [
    "excel_content['quarters'] = excel_content.Date.dt.quarter"
   ]
  },
  {
   "cell_type": "code",
   "execution_count": 21,
   "id": "82a1cbec",
   "metadata": {},
   "outputs": [],
   "source": [
    "group = excel_content.groupby(['Year','Gender','quarters'],as_index=False)['Amount'].sum()"
   ]
  },
  {
   "cell_type": "code",
   "execution_count": 22,
   "id": "013ecd3c",
   "metadata": {},
   "outputs": [],
   "source": [
    "pivotgroup = group.pivot(index=['Year','Gender'], columns='quarters', values='Amount')"
   ]
  },
  {
   "cell_type": "code",
   "execution_count": 23,
   "id": "32933653",
   "metadata": {},
   "outputs": [],
   "source": [
    "excel_2015 = excel_content[(excel_content['Year'] == 2015)]"
   ]
  },
  {
   "cell_type": "code",
   "execution_count": 24,
   "id": "089407f7",
   "metadata": {},
   "outputs": [
    {
     "data": {
      "text/html": [
       "<div>\n",
       "<style scoped>\n",
       "    .dataframe tbody tr th:only-of-type {\n",
       "        vertical-align: middle;\n",
       "    }\n",
       "\n",
       "    .dataframe tbody tr th {\n",
       "        vertical-align: top;\n",
       "    }\n",
       "\n",
       "    .dataframe thead th {\n",
       "        text-align: right;\n",
       "    }\n",
       "</style>\n",
       "<table border=\"1\" class=\"dataframe\">\n",
       "  <thead>\n",
       "    <tr style=\"text-align: right;\">\n",
       "      <th></th>\n",
       "      <th>quarters</th>\n",
       "      <th>1</th>\n",
       "      <th>2</th>\n",
       "      <th>3</th>\n",
       "      <th>4</th>\n",
       "    </tr>\n",
       "    <tr>\n",
       "      <th>Year</th>\n",
       "      <th>Gender</th>\n",
       "      <th></th>\n",
       "      <th></th>\n",
       "      <th></th>\n",
       "      <th></th>\n",
       "    </tr>\n",
       "  </thead>\n",
       "  <tbody>\n",
       "    <tr>\n",
       "      <th rowspan=\"2\" valign=\"top\">2013</th>\n",
       "      <th>F</th>\n",
       "      <td>NaN</td>\n",
       "      <td>NaN</td>\n",
       "      <td>NaN</td>\n",
       "      <td>333421908.0</td>\n",
       "    </tr>\n",
       "    <tr>\n",
       "      <th>M</th>\n",
       "      <td>NaN</td>\n",
       "      <td>NaN</td>\n",
       "      <td>NaN</td>\n",
       "      <td>280221976.0</td>\n",
       "    </tr>\n",
       "    <tr>\n",
       "      <th rowspan=\"2\" valign=\"top\">2014</th>\n",
       "      <th>F</th>\n",
       "      <td>318768288.0</td>\n",
       "      <td>331421060.0</td>\n",
       "      <td>335382914.0</td>\n",
       "      <td>334689993.0</td>\n",
       "    </tr>\n",
       "    <tr>\n",
       "      <th>M</th>\n",
       "      <td>281336181.0</td>\n",
       "      <td>269947023.0</td>\n",
       "      <td>290613061.0</td>\n",
       "      <td>292555513.0</td>\n",
       "    </tr>\n",
       "    <tr>\n",
       "      <th rowspan=\"2\" valign=\"top\">2015</th>\n",
       "      <th>F</th>\n",
       "      <td>344993188.0</td>\n",
       "      <td>206633679.0</td>\n",
       "      <td>NaN</td>\n",
       "      <td>NaN</td>\n",
       "    </tr>\n",
       "    <tr>\n",
       "      <th>M</th>\n",
       "      <td>279678969.0</td>\n",
       "      <td>175169620.0</td>\n",
       "      <td>NaN</td>\n",
       "      <td>NaN</td>\n",
       "    </tr>\n",
       "  </tbody>\n",
       "</table>\n",
       "</div>"
      ],
      "text/plain": [
       "quarters               1            2            3            4\n",
       "Year Gender                                                    \n",
       "2013 F               NaN          NaN          NaN  333421908.0\n",
       "     M               NaN          NaN          NaN  280221976.0\n",
       "2014 F       318768288.0  331421060.0  335382914.0  334689993.0\n",
       "     M       281336181.0  269947023.0  290613061.0  292555513.0\n",
       "2015 F       344993188.0  206633679.0          NaN          NaN\n",
       "     M       279678969.0  175169620.0          NaN          NaN"
      ]
     },
     "execution_count": 24,
     "metadata": {},
     "output_type": "execute_result"
    }
   ],
   "source": [
    "pivotgroup"
   ]
  },
  {
   "cell_type": "code",
   "execution_count": 25,
   "id": "af83b0a6",
   "metadata": {},
   "outputs": [
    {
     "data": {
      "text/plain": [
       "<matplotlib.legend.Legend at 0x21c8b6d84c0>"
      ]
     },
     "execution_count": 25,
     "metadata": {},
     "output_type": "execute_result"
    },
    {
     "data": {
      "image/png": "[encoded data removed]",
      "text/plain": [
       "<Figure size 1440x576 with 3 Axes>"
      ]
     },
     "metadata": {
      "needs_background": "light"
     },
     "output_type": "display_data"
    }
   ],
   "source": [
    "fig, axs = plt.subplots(1, 3, figsize=(20, 8), sharey=True)\n",
    "\n",
    "quarters = [1,2,3,4]\n",
    "group2013FQ4 = group[(group['Year'] == 2013) & (group['Gender'] == 'F') & (group['quarters'] == 4)]; \n",
    "group2013MQ4 = group[(group['Year'] == 2013) & (group['Gender'] == 'M') & (group['quarters'] == 4)]; \n",
    "male2013 = [0,0,0,group2013MQ4['Amount'].values[0]]\n",
    "female2013 = [0,0,0,group2013FQ4['Amount'].values[0]]\n",
    "  \n",
    "X_axis = np.arange(len(quarters))\n",
    "  \n",
    "axs[0].bar(X_axis - 0.2, male2013, 0.4, label = 'Male')\n",
    "axs[0].bar(X_axis + 0.2, female2013, 0.4, label = 'Female')  \n",
    "axs[0].set_xlabel(\"Quarters\")\n",
    "axs[0].set_ylabel(\"Expenses\")\n",
    "axs[0].set_title(\"Gender-Expense Analysis for the year 2013\")\n",
    "axs[0].legend()\n",
    "\n",
    "group2014FQ1 = group[(group['Year'] == 2014) & (group['Gender'] == 'F') & (group['quarters'] == 1)];\n",
    "group2014FQ2 = group[(group['Year'] == 2014) & (group['Gender'] == 'F') & (group['quarters'] == 2)]; \n",
    "group2014FQ3 = group[(group['Year'] == 2014) & (group['Gender'] == 'F') & (group['quarters'] == 3)];\n",
    "group2014FQ4 = group[(group['Year'] == 2014) & (group['Gender'] == 'F') & (group['quarters'] == 4)]; \n",
    "\n",
    "group2014MQ1 = group[(group['Year'] == 2014) & (group['Gender'] == 'M') & (group['quarters'] == 1)];\n",
    "group2014MQ2 = group[(group['Year'] == 2014) & (group['Gender'] == 'M') & (group['quarters'] == 2)]; \n",
    "group2014MQ3 = group[(group['Year'] == 2014) & (group['Gender'] == 'M') & (group['quarters'] == 3)];\n",
    "group2014MQ4 = group[(group['Year'] == 2014) & (group['Gender'] == 'M') & (group['quarters'] == 4)]; \n",
    "\n",
    "\n",
    "male2014 = [group2014MQ1['Amount'].values[0],group2014MQ2['Amount'].values[0],group2014MQ3['Amount'].values[0],group2014MQ4['Amount'].values[0]]\n",
    "female2014 = [group2014FQ1['Amount'].values[0],group2014FQ2['Amount'].values[0],group2014FQ3['Amount'].values[0],group2014FQ4['Amount'].values[0]]\n",
    "\n",
    "axs[1].bar(X_axis - 0.2, male2014, 0.4, label = 'Male')\n",
    "axs[1].bar(X_axis + 0.2, female2014, 0.4, label = 'Female')\n",
    "axs[1].set_xlabel(\"Quarters\")\n",
    "axs[1].set_ylabel(\"Expenses\")\n",
    "axs[1].set_title(\"Gender-Expense Analysis for the year 2014\")\n",
    "axs[1].legend()\n",
    "\n",
    "\n",
    "group2015FQ1 = group[(group['Year'] == 2015) & (group['Gender'] == 'F') & (group['quarters'] == 1)];\n",
    "group2015FQ2 = group[(group['Year'] == 2015) & (group['Gender'] == 'F') & (group['quarters'] == 2)];\n",
    "\n",
    "group2015MQ1 = group[(group['Year'] == 2015) & (group['Gender'] == 'M') & (group['quarters'] == 1)];\n",
    "group2015MQ2 = group[(group['Year'] == 2015) & (group['Gender'] == 'M') & (group['quarters'] == 2)];\n",
    "\n",
    "\n",
    "male2015 = [group2015MQ1['Amount'].values[0],group2015MQ2['Amount'].values[0],0,0]\n",
    "female2015 = [group2015FQ1['Amount'].values[0],group2015FQ2['Amount'].values[0],0,0]\n",
    "\n",
    "axs[2].bar(X_axis - 0.2, male2015, 0.4, label = 'Male')\n",
    "axs[2].bar(X_axis + 0.2, female2015, 0.4, label = 'Female')\n",
    "axs[2].set_xlabel(\"Quarters\")\n",
    "axs[2].set_ylabel(\"Expenses\")\n",
    "axs[2].set_title(\"Gender-Expense Analysis for the year 2015\")\n",
    "axs[2].legend()\n"
   ]
  },
  {
   "cell_type": "code",
   "execution_count": 26,
   "id": "7974dc66",
   "metadata": {},
   "outputs": [],
   "source": [
    "excel_2013smallest = excel_2013.groupby(['Year','Exp Type'],sort = True,as_index=False).sum().nsmallest(3,'Amount')"
   ]
  },
  {
   "cell_type": "code",
   "execution_count": 27,
   "id": "fbf5bdd7",
   "metadata": {},
   "outputs": [],
   "source": [
    "excel_2013smallest.set_index('Year', inplace=True)"
   ]
  },
  {
   "cell_type": "code",
   "execution_count": 28,
   "id": "f18b7e3a",
   "metadata": {},
   "outputs": [],
   "source": [
    "excel_2014smallest = excel_2014.groupby(['Year','Exp Type'],sort = True,as_index=False).sum().nsmallest(3,'Amount')"
   ]
  },
  {
   "cell_type": "code",
   "execution_count": 29,
   "id": "c474bf94",
   "metadata": {},
   "outputs": [],
   "source": [
    "excel_2014smallest.set_index('Year', inplace=True)"
   ]
  },
  {
   "cell_type": "code",
   "execution_count": 30,
   "id": "099931f8",
   "metadata": {},
   "outputs": [],
   "source": [
    "excel_2015smallest = excel_2015.groupby(['Year','Exp Type'],sort = True,as_index=False).sum().nsmallest(3,'Amount')"
   ]
  },
  {
   "cell_type": "code",
   "execution_count": 31,
   "id": "e0f37c17",
   "metadata": {},
   "outputs": [],
   "source": [
    "excel_2015smallest.set_index('Year', inplace=True)"
   ]
  },
  {
   "cell_type": "code",
   "execution_count": 32,
   "id": "c557b4f7",
   "metadata": {},
   "outputs": [
    {
     "data": {
      "text/html": [
       "<div>\n",
       "<style scoped>\n",
       "    .dataframe tbody tr th:only-of-type {\n",
       "        vertical-align: middle;\n",
       "    }\n",
       "\n",
       "    .dataframe tbody tr th {\n",
       "        vertical-align: top;\n",
       "    }\n",
       "\n",
       "    .dataframe thead th {\n",
       "        text-align: right;\n",
       "    }\n",
       "</style>\n",
       "<table border=\"1\" class=\"dataframe\">\n",
       "  <thead>\n",
       "    <tr style=\"text-align: right;\">\n",
       "      <th>Year</th>\n",
       "      <th>2013</th>\n",
       "      <th>2013</th>\n",
       "      <th>2013</th>\n",
       "    </tr>\n",
       "  </thead>\n",
       "  <tbody>\n",
       "    <tr>\n",
       "      <th>Exp Type</th>\n",
       "      <td>Travel</td>\n",
       "      <td>Grocery</td>\n",
       "      <td>Entertainment</td>\n",
       "    </tr>\n",
       "    <tr>\n",
       "      <th>Amount</th>\n",
       "      <td>15353606</td>\n",
       "      <td>111806890</td>\n",
       "      <td>113094669</td>\n",
       "    </tr>\n",
       "  </tbody>\n",
       "</table>\n",
       "</div>"
      ],
      "text/plain": [
       "Year          2013       2013           2013\n",
       "Exp Type    Travel    Grocery  Entertainment\n",
       "Amount    15353606  111806890      113094669"
      ]
     },
     "execution_count": 32,
     "metadata": {},
     "output_type": "execute_result"
    }
   ],
   "source": [
    "excel_2013smallest.T"
   ]
  },
  {
   "cell_type": "code",
   "execution_count": 33,
   "id": "8d08d030",
   "metadata": {},
   "outputs": [
    {
     "data": {
      "text/html": [
       "<div>\n",
       "<style scoped>\n",
       "    .dataframe tbody tr th:only-of-type {\n",
       "        vertical-align: middle;\n",
       "    }\n",
       "\n",
       "    .dataframe tbody tr th {\n",
       "        vertical-align: top;\n",
       "    }\n",
       "\n",
       "    .dataframe thead th {\n",
       "        text-align: right;\n",
       "    }\n",
       "</style>\n",
       "<table border=\"1\" class=\"dataframe\">\n",
       "  <thead>\n",
       "    <tr style=\"text-align: right;\">\n",
       "      <th>Year</th>\n",
       "      <th>2014</th>\n",
       "      <th>2014</th>\n",
       "      <th>2014</th>\n",
       "    </tr>\n",
       "  </thead>\n",
       "  <tbody>\n",
       "    <tr>\n",
       "      <th>Exp Type</th>\n",
       "      <td>Travel</td>\n",
       "      <td>Grocery</td>\n",
       "      <td>Entertainment</td>\n",
       "    </tr>\n",
       "    <tr>\n",
       "      <th>Amount</th>\n",
       "      <td>65532848</td>\n",
       "      <td>428628961</td>\n",
       "      <td>443730570</td>\n",
       "    </tr>\n",
       "  </tbody>\n",
       "</table>\n",
       "</div>"
      ],
      "text/plain": [
       "Year          2014       2014           2014\n",
       "Exp Type    Travel    Grocery  Entertainment\n",
       "Amount    65532848  428628961      443730570"
      ]
     },
     "execution_count": 33,
     "metadata": {},
     "output_type": "execute_result"
    }
   ],
   "source": [
    "excel_2014smallest.T"
   ]
  },
  {
   "cell_type": "code",
   "execution_count": 34,
   "id": "8c506403",
   "metadata": {},
   "outputs": [
    {
     "data": {
      "text/html": [
       "<div>\n",
       "<style scoped>\n",
       "    .dataframe tbody tr th:only-of-type {\n",
       "        vertical-align: middle;\n",
       "    }\n",
       "\n",
       "    .dataframe tbody tr th {\n",
       "        vertical-align: top;\n",
       "    }\n",
       "\n",
       "    .dataframe thead th {\n",
       "        text-align: right;\n",
       "    }\n",
       "</style>\n",
       "<table border=\"1\" class=\"dataframe\">\n",
       "  <thead>\n",
       "    <tr style=\"text-align: right;\">\n",
       "      <th>Year</th>\n",
       "      <th>2015</th>\n",
       "      <th>2015</th>\n",
       "      <th>2015</th>\n",
       "    </tr>\n",
       "  </thead>\n",
       "  <tbody>\n",
       "    <tr>\n",
       "      <th>Exp Type</th>\n",
       "      <td>Travel</td>\n",
       "      <td>Entertainment</td>\n",
       "      <td>Grocery</td>\n",
       "    </tr>\n",
       "    <tr>\n",
       "      <th>Amount</th>\n",
       "      <td>28369157</td>\n",
       "      <td>169612297</td>\n",
       "      <td>177772072</td>\n",
       "    </tr>\n",
       "    <tr>\n",
       "      <th>quarters</th>\n",
       "      <td>252</td>\n",
       "      <td>1516</td>\n",
       "      <td>1618</td>\n",
       "    </tr>\n",
       "  </tbody>\n",
       "</table>\n",
       "</div>"
      ],
      "text/plain": [
       "Year          2015           2015       2015\n",
       "Exp Type    Travel  Entertainment    Grocery\n",
       "Amount    28369157      169612297  177772072\n",
       "quarters       252           1516       1618"
      ]
     },
     "execution_count": 34,
     "metadata": {},
     "output_type": "execute_result"
    }
   ],
   "source": [
    "excel_2015smallest.T"
   ]
  },
  {
   "cell_type": "code",
   "execution_count": 35,
   "id": "37a32cd8",
   "metadata": {},
   "outputs": [
    {
     "data": {
      "text/plain": [
       "[Text(0, 0, 'Travel'), Text(1, 0, 'Entertainment'), Text(2, 0, 'Grocery')]"
      ]
     },
     "execution_count": 35,
     "metadata": {},
     "output_type": "execute_result"
    },
    {
     "data": {
      "image/png": "[encoded data removed]",
      "text/plain": [
       "<Figure size 1440x576 with 3 Axes>"
      ]
     },
     "metadata": {
      "needs_background": "light"
     },
     "output_type": "display_data"
    }
   ],
   "source": [
    "Exp_type2013=list(excel_2013smallest['Exp Type'].unique())\n",
    "expindex2013 = range(len(Exp_type2013))\n",
    "Amount_per_exptype2013 = excel_2013smallest.groupby('Exp Type')['Amount'].mean()\n",
    "Amount_per_exptype2013 = Amount_per_exptype2013[Exp_type2013]\n",
    "\n",
    "Exp_type2014=list(excel_2014smallest['Exp Type'].unique())\n",
    "expindex2014 = range(len(Exp_type2014))\n",
    "Amount_per_exptype2014 = excel_2014smallest.groupby('Exp Type')['Amount'].mean()\n",
    "Amount_per_exptype2014 = Amount_per_exptype2014[Exp_type2014]\n",
    "\n",
    "Exp_type2015=list(excel_2015smallest['Exp Type'].unique())\n",
    "expindex2015 = range(len(Exp_type2015))\n",
    "Amount_per_exptype2015 = excel_2015smallest.groupby('Exp Type')['Amount'].mean()\n",
    "Amount_per_exptype2015 = Amount_per_exptype2015[Exp_type2015]\n",
    "\n",
    "fig, axs = plt.subplots(1, 3, figsize=(20, 8), sharey=True)\n",
    "\n",
    "axs[0].bar(expindex2013, Amount_per_exptype2013)\n",
    "axs[0].set_title('TOP3-Expenses-Analysis for the year 2013', fontsize=15, pad=20)\n",
    "axs[0].set_xlabel('Expense Type', fontsize=15)\n",
    "axs[0].set_ylabel('Total Amount', fontsize=15)\n",
    "axs[0].set_xticks(expindex2013)\n",
    "axs[0].set_xticklabels(Exp_type2013,rotation = 45)\n",
    "\n",
    "axs[1].bar(expindex2014, Amount_per_exptype2014)\n",
    "axs[1].set_title('TOP3-Expenses-Analysis for the year 2014', fontsize=15, pad=20)\n",
    "axs[1].set_xlabel('Expense Type', fontsize=15)\n",
    "axs[1].set_ylabel('Total Amount', fontsize=15)\n",
    "axs[1].set_xticks(expindex2013)\n",
    "axs[1].set_xticklabels(Exp_type2014,rotation = 45)\n",
    "\n",
    "axs[2].bar(expindex2015, Amount_per_exptype2015)\n",
    "axs[2].set_title('TOP3-Expenses-Analysis for the year 2015', fontsize=15, pad=20)\n",
    "axs[2].set_xlabel('Expense Type', fontsize=15)\n",
    "axs[2].set_ylabel('Total Amount', fontsize=15)\n",
    "axs[2].set_xticks(expindex2013)\n",
    "axs[2].set_xticklabels(Exp_type2015,rotation = 45)"
   ]
  },
  {
   "cell_type": "code",
   "execution_count": 36,
   "id": "a300fad1",
   "metadata": {},
   "outputs": [
    {
     "data": {
      "text/html": [
       "<div>\n",
       "<style scoped>\n",
       "    .dataframe tbody tr th:only-of-type {\n",
       "        vertical-align: middle;\n",
       "    }\n",
       "\n",
       "    .dataframe tbody tr th {\n",
       "        vertical-align: top;\n",
       "    }\n",
       "\n",
       "    .dataframe thead th {\n",
       "        text-align: right;\n",
       "    }\n",
       "</style>\n",
       "<table border=\"1\" class=\"dataframe\">\n",
       "  <thead>\n",
       "    <tr style=\"text-align: right;\">\n",
       "      <th></th>\n",
       "      <th>City</th>\n",
       "      <th>Date</th>\n",
       "      <th>Card Type</th>\n",
       "      <th>Exp Type</th>\n",
       "      <th>Gender</th>\n",
       "      <th>Amount</th>\n",
       "      <th>Year</th>\n",
       "      <th>quarters</th>\n",
       "    </tr>\n",
       "  </thead>\n",
       "  <tbody>\n",
       "    <tr>\n",
       "      <th>0</th>\n",
       "      <td>Delhi, India</td>\n",
       "      <td>2014-10-29</td>\n",
       "      <td>Gold</td>\n",
       "      <td>Bills</td>\n",
       "      <td>F</td>\n",
       "      <td>82475</td>\n",
       "      <td>2014</td>\n",
       "      <td>4</td>\n",
       "    </tr>\n",
       "    <tr>\n",
       "      <th>1</th>\n",
       "      <td>Greater Mumbai, India</td>\n",
       "      <td>2014-08-22</td>\n",
       "      <td>Platinum</td>\n",
       "      <td>Bills</td>\n",
       "      <td>F</td>\n",
       "      <td>32555</td>\n",
       "      <td>2014</td>\n",
       "      <td>3</td>\n",
       "    </tr>\n",
       "    <tr>\n",
       "      <th>2</th>\n",
       "      <td>Bengaluru, India</td>\n",
       "      <td>2014-08-27</td>\n",
       "      <td>Silver</td>\n",
       "      <td>Bills</td>\n",
       "      <td>F</td>\n",
       "      <td>101738</td>\n",
       "      <td>2014</td>\n",
       "      <td>3</td>\n",
       "    </tr>\n",
       "    <tr>\n",
       "      <th>3</th>\n",
       "      <td>Greater Mumbai, India</td>\n",
       "      <td>2014-04-12</td>\n",
       "      <td>Signature</td>\n",
       "      <td>Bills</td>\n",
       "      <td>F</td>\n",
       "      <td>123424</td>\n",
       "      <td>2014</td>\n",
       "      <td>2</td>\n",
       "    </tr>\n",
       "    <tr>\n",
       "      <th>4</th>\n",
       "      <td>Bengaluru, India</td>\n",
       "      <td>2015-05-05</td>\n",
       "      <td>Gold</td>\n",
       "      <td>Bills</td>\n",
       "      <td>F</td>\n",
       "      <td>171574</td>\n",
       "      <td>2015</td>\n",
       "      <td>2</td>\n",
       "    </tr>\n",
       "    <tr>\n",
       "      <th>...</th>\n",
       "      <td>...</td>\n",
       "      <td>...</td>\n",
       "      <td>...</td>\n",
       "      <td>...</td>\n",
       "      <td>...</td>\n",
       "      <td>...</td>\n",
       "      <td>...</td>\n",
       "      <td>...</td>\n",
       "    </tr>\n",
       "    <tr>\n",
       "      <th>26047</th>\n",
       "      <td>Kolkata, India</td>\n",
       "      <td>2014-06-22</td>\n",
       "      <td>Silver</td>\n",
       "      <td>Travel</td>\n",
       "      <td>F</td>\n",
       "      <td>128191</td>\n",
       "      <td>2014</td>\n",
       "      <td>2</td>\n",
       "    </tr>\n",
       "    <tr>\n",
       "      <th>26048</th>\n",
       "      <td>Pune, India</td>\n",
       "      <td>2014-08-03</td>\n",
       "      <td>Signature</td>\n",
       "      <td>Travel</td>\n",
       "      <td>M</td>\n",
       "      <td>246316</td>\n",
       "      <td>2014</td>\n",
       "      <td>3</td>\n",
       "    </tr>\n",
       "    <tr>\n",
       "      <th>26049</th>\n",
       "      <td>Hyderabad, India</td>\n",
       "      <td>2015-01-16</td>\n",
       "      <td>Silver</td>\n",
       "      <td>Travel</td>\n",
       "      <td>M</td>\n",
       "      <td>265019</td>\n",
       "      <td>2015</td>\n",
       "      <td>1</td>\n",
       "    </tr>\n",
       "    <tr>\n",
       "      <th>26050</th>\n",
       "      <td>Kanpur, India</td>\n",
       "      <td>2014-09-14</td>\n",
       "      <td>Silver</td>\n",
       "      <td>Travel</td>\n",
       "      <td>M</td>\n",
       "      <td>88174</td>\n",
       "      <td>2014</td>\n",
       "      <td>3</td>\n",
       "    </tr>\n",
       "    <tr>\n",
       "      <th>26051</th>\n",
       "      <td>Hyderabad, India</td>\n",
       "      <td>2013-10-19</td>\n",
       "      <td>Signature</td>\n",
       "      <td>Bills</td>\n",
       "      <td>M</td>\n",
       "      <td>184410</td>\n",
       "      <td>2013</td>\n",
       "      <td>4</td>\n",
       "    </tr>\n",
       "  </tbody>\n",
       "</table>\n",
       "<p>26052 rows × 8 columns</p>\n",
       "</div>"
      ],
      "text/plain": [
       "                        City       Date  Card Type Exp Type Gender  Amount  \\\n",
       "0               Delhi, India 2014-10-29       Gold    Bills      F   82475   \n",
       "1      Greater Mumbai, India 2014-08-22   Platinum    Bills      F   32555   \n",
       "2           Bengaluru, India 2014-08-27     Silver    Bills      F  101738   \n",
       "3      Greater Mumbai, India 2014-04-12  Signature    Bills      F  123424   \n",
       "4           Bengaluru, India 2015-05-05       Gold    Bills      F  171574   \n",
       "...                      ...        ...        ...      ...    ...     ...   \n",
       "26047         Kolkata, India 2014-06-22     Silver   Travel      F  128191   \n",
       "26048            Pune, India 2014-08-03  Signature   Travel      M  246316   \n",
       "26049       Hyderabad, India 2015-01-16     Silver   Travel      M  265019   \n",
       "26050          Kanpur, India 2014-09-14     Silver   Travel      M   88174   \n",
       "26051       Hyderabad, India 2013-10-19  Signature    Bills      M  184410   \n",
       "\n",
       "       Year  quarters  \n",
       "0      2014         4  \n",
       "1      2014         3  \n",
       "2      2014         3  \n",
       "3      2014         2  \n",
       "4      2015         2  \n",
       "...     ...       ...  \n",
       "26047  2014         2  \n",
       "26048  2014         3  \n",
       "26049  2015         1  \n",
       "26050  2014         3  \n",
       "26051  2013         4  \n",
       "\n",
       "[26052 rows x 8 columns]"
      ]
     },
     "execution_count": 36,
     "metadata": {},
     "output_type": "execute_result"
    }
   ],
   "source": [
    "excel_content"
   ]
  },
  {
   "cell_type": "code",
   "execution_count": 37,
   "id": "792a7038",
   "metadata": {},
   "outputs": [],
   "source": [
    "excel_content['Day'] = pd.DatetimeIndex(excel_content['Date']).day_name()"
   ]
  },
  {
   "cell_type": "code",
   "execution_count": 38,
   "id": "5929062a",
   "metadata": {},
   "outputs": [
    {
     "name": "stdout",
     "output_type": "stream",
     "text": [
      "FRAUD DETECTION\n",
      "\n",
      "BUSINESS RULE: Any bill payment done on a weekend will be a potential fraud since in India, people can only pay their bills during weekdays. All the billing offices are closed in India during the weekend\n"
     ]
    },
    {
     "data": {
      "text/html": [
       "<div>\n",
       "<style scoped>\n",
       "    .dataframe tbody tr th:only-of-type {\n",
       "        vertical-align: middle;\n",
       "    }\n",
       "\n",
       "    .dataframe tbody tr th {\n",
       "        vertical-align: top;\n",
       "    }\n",
       "\n",
       "    .dataframe thead th {\n",
       "        text-align: right;\n",
       "    }\n",
       "</style>\n",
       "<table border=\"1\" class=\"dataframe\">\n",
       "  <thead>\n",
       "    <tr style=\"text-align: right;\">\n",
       "      <th></th>\n",
       "      <th>City</th>\n",
       "      <th>Date</th>\n",
       "      <th>Card Type</th>\n",
       "      <th>Exp Type</th>\n",
       "      <th>Gender</th>\n",
       "      <th>Amount</th>\n",
       "      <th>Year</th>\n",
       "      <th>quarters</th>\n",
       "      <th>Day</th>\n",
       "    </tr>\n",
       "  </thead>\n",
       "  <tbody>\n",
       "    <tr>\n",
       "      <th>3</th>\n",
       "      <td>Greater Mumbai, India</td>\n",
       "      <td>2014-04-12</td>\n",
       "      <td>Signature</td>\n",
       "      <td>Bills</td>\n",
       "      <td>F</td>\n",
       "      <td>123424</td>\n",
       "      <td>2014</td>\n",
       "      <td>2</td>\n",
       "      <td>Saturday</td>\n",
       "    </tr>\n",
       "    <tr>\n",
       "      <th>10</th>\n",
       "      <td>Delhi, India</td>\n",
       "      <td>2014-06-22</td>\n",
       "      <td>Platinum</td>\n",
       "      <td>Bills</td>\n",
       "      <td>F</td>\n",
       "      <td>280061</td>\n",
       "      <td>2014</td>\n",
       "      <td>2</td>\n",
       "      <td>Sunday</td>\n",
       "    </tr>\n",
       "    <tr>\n",
       "      <th>11</th>\n",
       "      <td>Greater Mumbai, India</td>\n",
       "      <td>2013-12-07</td>\n",
       "      <td>Signature</td>\n",
       "      <td>Bills</td>\n",
       "      <td>F</td>\n",
       "      <td>278036</td>\n",
       "      <td>2013</td>\n",
       "      <td>4</td>\n",
       "      <td>Saturday</td>\n",
       "    </tr>\n",
       "    <tr>\n",
       "      <th>13</th>\n",
       "      <td>Delhi, India</td>\n",
       "      <td>2014-04-27</td>\n",
       "      <td>Signature</td>\n",
       "      <td>Bills</td>\n",
       "      <td>F</td>\n",
       "      <td>254359</td>\n",
       "      <td>2014</td>\n",
       "      <td>2</td>\n",
       "      <td>Sunday</td>\n",
       "    </tr>\n",
       "    <tr>\n",
       "      <th>16</th>\n",
       "      <td>Greater Mumbai, India</td>\n",
       "      <td>2014-06-14</td>\n",
       "      <td>Signature</td>\n",
       "      <td>Bills</td>\n",
       "      <td>F</td>\n",
       "      <td>421878</td>\n",
       "      <td>2014</td>\n",
       "      <td>2</td>\n",
       "      <td>Saturday</td>\n",
       "    </tr>\n",
       "    <tr>\n",
       "      <th>...</th>\n",
       "      <td>...</td>\n",
       "      <td>...</td>\n",
       "      <td>...</td>\n",
       "      <td>...</td>\n",
       "      <td>...</td>\n",
       "      <td>...</td>\n",
       "      <td>...</td>\n",
       "      <td>...</td>\n",
       "      <td>...</td>\n",
       "    </tr>\n",
       "    <tr>\n",
       "      <th>25185</th>\n",
       "      <td>Hyderabad, India</td>\n",
       "      <td>2013-12-14</td>\n",
       "      <td>Gold</td>\n",
       "      <td>Bills</td>\n",
       "      <td>F</td>\n",
       "      <td>86139</td>\n",
       "      <td>2013</td>\n",
       "      <td>4</td>\n",
       "      <td>Saturday</td>\n",
       "    </tr>\n",
       "    <tr>\n",
       "      <th>25198</th>\n",
       "      <td>Chennai, India</td>\n",
       "      <td>2014-08-30</td>\n",
       "      <td>Platinum</td>\n",
       "      <td>Bills</td>\n",
       "      <td>F</td>\n",
       "      <td>115739</td>\n",
       "      <td>2014</td>\n",
       "      <td>3</td>\n",
       "      <td>Saturday</td>\n",
       "    </tr>\n",
       "    <tr>\n",
       "      <th>25232</th>\n",
       "      <td>Hyderabad, India</td>\n",
       "      <td>2013-10-12</td>\n",
       "      <td>Platinum</td>\n",
       "      <td>Bills</td>\n",
       "      <td>M</td>\n",
       "      <td>126949</td>\n",
       "      <td>2013</td>\n",
       "      <td>4</td>\n",
       "      <td>Saturday</td>\n",
       "    </tr>\n",
       "    <tr>\n",
       "      <th>25309</th>\n",
       "      <td>Jaipur, India</td>\n",
       "      <td>2013-12-01</td>\n",
       "      <td>Silver</td>\n",
       "      <td>Bills</td>\n",
       "      <td>M</td>\n",
       "      <td>157997</td>\n",
       "      <td>2013</td>\n",
       "      <td>4</td>\n",
       "      <td>Sunday</td>\n",
       "    </tr>\n",
       "    <tr>\n",
       "      <th>26051</th>\n",
       "      <td>Hyderabad, India</td>\n",
       "      <td>2013-10-19</td>\n",
       "      <td>Signature</td>\n",
       "      <td>Bills</td>\n",
       "      <td>M</td>\n",
       "      <td>184410</td>\n",
       "      <td>2013</td>\n",
       "      <td>4</td>\n",
       "      <td>Saturday</td>\n",
       "    </tr>\n",
       "  </tbody>\n",
       "</table>\n",
       "<p>1448 rows × 9 columns</p>\n",
       "</div>"
      ],
      "text/plain": [
       "                        City       Date  Card Type Exp Type Gender  Amount  \\\n",
       "3      Greater Mumbai, India 2014-04-12  Signature    Bills      F  123424   \n",
       "10              Delhi, India 2014-06-22   Platinum    Bills      F  280061   \n",
       "11     Greater Mumbai, India 2013-12-07  Signature    Bills      F  278036   \n",
       "13              Delhi, India 2014-04-27  Signature    Bills      F  254359   \n",
       "16     Greater Mumbai, India 2014-06-14  Signature    Bills      F  421878   \n",
       "...                      ...        ...        ...      ...    ...     ...   \n",
       "25185       Hyderabad, India 2013-12-14       Gold    Bills      F   86139   \n",
       "25198         Chennai, India 2014-08-30   Platinum    Bills      F  115739   \n",
       "25232       Hyderabad, India 2013-10-12   Platinum    Bills      M  126949   \n",
       "25309          Jaipur, India 2013-12-01     Silver    Bills      M  157997   \n",
       "26051       Hyderabad, India 2013-10-19  Signature    Bills      M  184410   \n",
       "\n",
       "       Year  quarters       Day  \n",
       "3      2014         2  Saturday  \n",
       "10     2014         2    Sunday  \n",
       "11     2013         4  Saturday  \n",
       "13     2014         2    Sunday  \n",
       "16     2014         2  Saturday  \n",
       "...     ...       ...       ...  \n",
       "25185  2013         4  Saturday  \n",
       "25198  2014         3  Saturday  \n",
       "25232  2013         4  Saturday  \n",
       "25309  2013         4    Sunday  \n",
       "26051  2013         4  Saturday  \n",
       "\n",
       "[1448 rows x 9 columns]"
      ]
     },
     "execution_count": 38,
     "metadata": {},
     "output_type": "execute_result"
    }
   ],
   "source": [
    "## FRAUD DETECTION\n",
    "print('FRAUD DETECTION\\n')\n",
    "print('BUSINESS RULE: Any bill payment done on a weekend will be a potential fraud since in India, people can only pay their bills during weekdays. All the billing offices are closed in India during the weekend')\n",
    "# BUSINESS RULE: Any bill payment done on a weekend will be a potential fraud since in India, people can only pay their bills during weekdays. All the billing offices are closed in India during the weekend.\n",
    "frauddata = excel_content[((excel_content['Day'] == 'Saturday' ) | (excel_content['Day'] == 'Sunday' )) & (excel_content['Exp Type'] == 'Bills')]; frauddata"
   ]
  },
  {
   "cell_type": "code",
   "execution_count": null,
   "id": "dcbace74",
   "metadata": {},
   "outputs": [],
   "source": []
  }
 ],
 "metadata": {
  "kernelspec": {
   "display_name": "Python 3",
   "language": "python",
   "name": "python3"
  },
  "language_info": {
   "codemirror_mode": {
    "name": "ipython",
    "version": 3
   },
   "file_extension": ".py",
   "mimetype": "text/x-python",
   "name": "python",
   "nbconvert_exporter": "python",
   "pygments_lexer": "ipython3",
   "version": "3.8.8"
  }
 },
 "nbformat": 4,
 "nbformat_minor": 5
}
